{
 "cells": [
  {
   "cell_type": "code",
   "execution_count": null,
   "metadata": {},
   "outputs": [],
   "source": [
    "import cv2\n",
    "import pytesseract\n",
    "from pytesseract import Output, TesseractError\n",
    "from bs4 import BeautifulSoup\n",
    "import numpy as np\n",
    "import os"
   ]
  },
  {
   "cell_type": "code",
   "execution_count": null,
   "metadata": {},
   "outputs": [],
   "source": [
    "pytesseract.pytesseract.tesseract_cmd = r\"C:\\Program Files\\Tesseract-OCR\\tesseract.exe\"\n",
    "os.environ['TESSDATA_PREFIX'] = r\"C:\\Program Files\\Tesseract-OCR\\tessdata\"\n",
    "\n",
    "cap = cv2.VideoCapture(r\"C:\\Users\\gilbert\\PQの最後まではやらない神々の悪戯ハデス√　＃２ [RbGcdI_DjqU].mp4\")\n",
    "soup = BeautifulSoup('<html><body></body></html>', 'html.parser')\n",
    "body = soup.find('body')\n",
    "\n",
    "prev_frame = None\n",
    "frame_count = 0\n",
    "\n",
    "# specific video's name and text box coordinates\n",
    "x1 = 147\n",
    "y1 = 427\n",
    "x2 = 690\n",
    "y2 = 472\n",
    "\n",
    "x3 = 132\n",
    "y3 = 511\n",
    "x4 = 1078\n",
    "y4 = 677"
   ]
  },
  {
   "cell_type": "code",
   "execution_count": null,
   "metadata": {},
   "outputs": [],
   "source": [
    "\n",
    "# Define the region of interest (ROI) coordinates for the name and text boxes\n",
    "roi_name_top_left = (x1, y1)  # coordinates of the top left corner of the name box\n",
    "roi_name_bottom_right = (x2, y2)  # coordinates of the bottom right corner of the name box\n",
    "\n",
    "roi_text_top_left = (x3, y3)  # coordinates of the top left corner of the text box\n",
    "roi_text_bottom_right = (x4, y4)  # coordinates of the bottom right corner of the text box\n",
    "\n",
    "while cap.isOpened():\n",
    "    ret, frame = cap.read()\n",
    "    if not ret:\n",
    "        break\n",
    "\n",
    "    frame_count += 1\n",
    "    if frame_count % 30 != 0:  # frameskip\n",
    "        continue\n",
    "\n",
    "    # Crop the frame to the ROIs\n",
    "    frame_name = frame[roi_name_top_left[1]:roi_name_bottom_right[1], roi_name_top_left[0]:roi_name_bottom_right[0]]\n",
    "    frame_text = frame[roi_text_top_left[1]:roi_text_bottom_right[1], roi_text_top_left[0]:roi_text_bottom_right[0]]\n",
    "\n",
    "    # Process each ROI separately\n",
    "    for roi_frame in [frame_name, frame_text]:\n",
    "        # Compare current frame with the previous one\n",
    "        if prev_frame is not None and np.array_equal(roi_frame, prev_frame):\n",
    "            continue\n",
    "\n",
    "        try:\n",
    "            d = pytesseract.image_to_string(roi_frame, lang='jpn', config='--psm 6', output_type=Output.DICT)\n",
    "            p = soup.new_tag('p')\n",
    "            p.string = d['text']\n",
    "            body.append(p)\n",
    "            print(p)\n",
    "        except TesseractError as e:\n",
    "            print(\"An error occurred during OCR:\", e)\n",
    "\n",
    "        # Update the previous frame\n",
    "        prev_frame = roi_frame\n",
    "\n",
    "with open('output.html', 'w', encoding='utf-8') as f:\n",
    "    f.write(str(soup))\n",
    "\n",
    "cap.release()\n",
    "cv2.destroyAllWindows()\n"
   ]
  }
 ],
 "metadata": {
  "kernelspec": {
   "display_name": "Python 3",
   "language": "python",
   "name": "python3"
  },
  "language_info": {
   "codemirror_mode": {
    "name": "ipython",
    "version": 3
   },
   "file_extension": ".py",
   "mimetype": "text/x-python",
   "name": "python",
   "nbconvert_exporter": "python",
   "pygments_lexer": "ipython3",
   "version": "3.12.2"
  }
 },
 "nbformat": 4,
 "nbformat_minor": 2
}
